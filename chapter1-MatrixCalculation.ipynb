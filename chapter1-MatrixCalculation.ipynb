{
 "cells": [
  {
   "cell_type": "code",
   "execution_count": 1,
   "id": "western-science",
   "metadata": {},
   "outputs": [],
   "source": [
    "# Let import numpy library\n",
    "import numpy as np"
   ]
  },
  {
   "cell_type": "code",
   "execution_count": 2,
   "id": "outer-episode",
   "metadata": {},
   "outputs": [],
   "source": [
    "#create the matrix for chemist's problem\n",
    "A=np.array([[1,1],[10,35]])"
   ]
  },
  {
   "cell_type": "code",
   "execution_count": 11,
   "id": "mental-fundamentals",
   "metadata": {},
   "outputs": [],
   "source": [
    "#create the right handside vector\n",
    "b=np.array([[2],[30]])"
   ]
  },
  {
   "cell_type": "code",
   "execution_count": 5,
   "id": "manufactured-calculator",
   "metadata": {},
   "outputs": [
    {
     "data": {
      "text/plain": [
       "(2, 2)"
      ]
     },
     "execution_count": 5,
     "metadata": {},
     "output_type": "execute_result"
    }
   ],
   "source": [
    "#verify the size of matrix A\n",
    "A.shape"
   ]
  },
  {
   "cell_type": "code",
   "execution_count": 16,
   "id": "simple-needle",
   "metadata": {},
   "outputs": [
    {
     "data": {
      "text/plain": [
       "(2, 1)"
      ]
     },
     "execution_count": 16,
     "metadata": {},
     "output_type": "execute_result"
    }
   ],
   "source": [
    "# verify the size of vector b.\n",
    "b.shape"
   ]
  },
  {
   "cell_type": "code",
   "execution_count": 7,
   "id": "junior-wyoming",
   "metadata": {},
   "outputs": [
    {
     "data": {
      "text/plain": [
       "25.000000000000007"
      ]
     },
     "execution_count": 7,
     "metadata": {},
     "output_type": "execute_result"
    }
   ],
   "source": [
    "#Verify that A is invertible using its determinant.\n",
    "np.linalg.det(A)\n"
   ]
  },
  {
   "cell_type": "code",
   "execution_count": 19,
   "id": "invisible-programmer",
   "metadata": {},
   "outputs": [],
   "source": [
    "# The det(A)!=0, it means that A is invertible. Now lets compute its inverse\n",
    "inv_A = np.linalg.inv(A)"
   ]
  },
  {
   "cell_type": "code",
   "execution_count": 22,
   "id": "finnish-hearing",
   "metadata": {},
   "outputs": [],
   "source": [
    "# We are ready to find the solution of our problem multiplying the matrix inv_A and the vector b=\n",
    "x=inv_A.dot(b)"
   ]
  },
  {
   "cell_type": "code",
   "execution_count": 23,
   "id": "going-bowling",
   "metadata": {},
   "outputs": [
    {
     "name": "stdout",
     "output_type": "stream",
     "text": [
      "x= [[1.6]\n",
      " [0.4]]\n"
     ]
    }
   ],
   "source": [
    "# lets print the solution\n",
    "print(\"x=\",x)"
   ]
  },
  {
   "cell_type": "code",
   "execution_count": 32,
   "id": "tribal-schedule",
   "metadata": {},
   "outputs": [],
   "source": [
    "# Now, we are going to solve the biologist's problem. The first thing you have to do is define \n",
    "# the problem in term of matrix notation. Complete the following code, where B is the coefficient matrix.\n",
    "B=np.array([[1,__,6],[__,-1,4],[2,__,5]])"
   ]
  },
  {
   "cell_type": "code",
   "execution_count": 26,
   "id": "complete-westminster",
   "metadata": {},
   "outputs": [],
   "source": [
    "#Create the handright side vector of size 3x1.\n",
    "b=np.array([[__],[5],[__]])"
   ]
  },
  {
   "cell_type": "code",
   "execution_count": 33,
   "id": "cosmetic-covering",
   "metadata": {},
   "outputs": [
    {
     "data": {
      "text/plain": [
       "14.999999999999993"
      ]
     },
     "execution_count": 33,
     "metadata": {},
     "output_type": "execute_result"
    }
   ],
   "source": [
    "# Compute the inverse of the matrix B. But first, analyse if that matrix is invertible computing its determinant.\n",
    "np.___.det(__)"
   ]
  },
  {
   "cell_type": "code",
   "execution_count": 34,
   "id": "traditional-blast",
   "metadata": {},
   "outputs": [],
   "source": [
    "# Now compute the inverse of the matrix B.\n",
    "inv_B=np.linalg.___(__)"
   ]
  },
  {
   "cell_type": "code",
   "execution_count": 37,
   "id": "oriented-titanium",
   "metadata": {},
   "outputs": [
    {
     "data": {
      "text/plain": [
       "array([[6.],\n",
       "       [1.],\n",
       "       [0.]])"
      ]
     },
     "execution_count": 37,
     "metadata": {},
     "output_type": "execute_result"
    }
   ],
   "source": [
    "inv_B.____(___)"
   ]
  },
  {
   "cell_type": "code",
   "execution_count": 39,
   "id": "checked-indie",
   "metadata": {},
   "outputs": [
    {
     "name": "stdout",
     "output_type": "stream",
     "text": [
      "The equation 1 was satisfied\n"
     ]
    }
   ],
   "source": [
    "#Check your resutls sustituying the previous results in you intial equation, lets define x1=6, x2=1, x3=0.\n",
    "x1=6\n",
    "x2=1\n",
    "x3=0\n",
    "if(x1+2*x2+6*x3==8):\n",
    "    print(\"The equation 1 was satisfied\")\n",
    "else:\n",
    "    print(\"The equation 1 was not satisfied\")\n",
    "\n",
    "# Check the others equations using the if and else conditional. \n"
   ]
  },
  {
   "cell_type": "code",
   "execution_count": null,
   "id": "cross-exploration",
   "metadata": {},
   "outputs": [],
   "source": []
  }
 ],
 "metadata": {
  "kernelspec": {
   "display_name": "Python 3",
   "language": "python",
   "name": "python3"
  },
  "language_info": {
   "codemirror_mode": {
    "name": "ipython",
    "version": 3
   },
   "file_extension": ".py",
   "mimetype": "text/x-python",
   "name": "python",
   "nbconvert_exporter": "python",
   "pygments_lexer": "ipython3",
   "version": "3.9.2"
  }
 },
 "nbformat": 4,
 "nbformat_minor": 5
}
